{
 "cells": [
  {
   "cell_type": "markdown",
   "metadata": {},
   "source": [
    "Loading data "
   ]
  },
  {
   "cell_type": "code",
   "execution_count": 17,
   "metadata": {},
   "outputs": [],
   "source": [
    "# Section must be included at the beginning of each new notebook. Remember to change the app name. \n",
    "# If you're using VirtualBox, change the below to '/home/user/spark-2.1.1-bin-hadoop2.7'\n",
    "import findspark \n",
    "findspark.init('/home/ubuntu/spark-2.1.1-bin-hadoop2.7')\n",
    "import pyspark\n",
    "from pyspark.sql import SparkSession\n",
    "spark = SparkSession.builder.appName('basics').getOrCreate()"
   ]
  },
  {
   "cell_type": "code",
   "execution_count": 18,
   "metadata": {},
   "outputs": [],
   "source": [
    "# Let's read in the data. If you open the dataset, you'll find that each column has a header. We specify that by stating that header=True.\n",
    "# To make our lives easier, we can also use 'inferSchema' when importing CSVs. This automatically detects data types.\n",
    "# If you would like to manually change data types, refer to this article: https://medium.com/@mrpowers/adding-structtype-columns-to-spark-dataframes-b44125409803\n",
    "df = spark.read.csv('AppleStore.csv',header=True,inferSchema=True)"
   ]
  },
  {
   "cell_type": "code",
   "execution_count": 6,
   "metadata": {},
   "outputs": [
    {
     "ename": "NameError",
     "evalue": "name 'df' is not defined",
     "output_type": "error",
     "traceback": [
      "\u001b[0;31m---------------------------------------------------------------------------\u001b[0m",
      "\u001b[0;31mNameError\u001b[0m                                 Traceback (most recent call last)",
      "\u001b[0;32m<ipython-input-6-2e1f4ef43251>\u001b[0m in \u001b[0;36m<module>\u001b[0;34m()\u001b[0m\n\u001b[1;32m      1\u001b[0m \u001b[0;31m# The show method allows you visualise DataFrames in a tabular format.\u001b[0m\u001b[0;34m\u001b[0m\u001b[0;34m\u001b[0m\u001b[0m\n\u001b[0;32m----> 2\u001b[0;31m \u001b[0mdf\u001b[0m\u001b[0;34m.\u001b[0m\u001b[0mshow\u001b[0m\u001b[0;34m(\u001b[0m\u001b[0;34m)\u001b[0m\u001b[0;34m\u001b[0m\u001b[0m\n\u001b[0m",
      "\u001b[0;31mNameError\u001b[0m: name 'df' is not defined"
     ]
    }
   ],
   "source": [
    "# The show method allows you visualise DataFrames in a tabular format. \n",
    "df.show()"
   ]
  },
  {
   "cell_type": "code",
   "execution_count": 20,
   "metadata": {},
   "outputs": [
    {
     "name": "stdout",
     "output_type": "stream",
     "text": [
      "root\n",
      " |-- _c0: integer (nullable = true)\n",
      " |-- id: integer (nullable = true)\n",
      " |-- track_name: string (nullable = true)\n",
      " |-- size_bytes: long (nullable = true)\n",
      " |-- currency: string (nullable = true)\n",
      " |-- price: double (nullable = true)\n",
      " |-- rating_count_tot: integer (nullable = true)\n",
      " |-- rating_count_ver: integer (nullable = true)\n",
      " |-- user_rating: double (nullable = true)\n",
      " |-- user_rating_ver: double (nullable = true)\n",
      " |-- ver: string (nullable = true)\n",
      " |-- cont_rating: string (nullable = true)\n",
      " |-- prime_genre: string (nullable = true)\n",
      " |-- sup_devices.num: integer (nullable = true)\n",
      " |-- ipadSc_urls.num: integer (nullable = true)\n",
      " |-- lang.num: integer (nullable = true)\n",
      " |-- vpp_lic: integer (nullable = true)\n",
      "\n",
      "[Row(_c0=1, id=281656475, track_name='PAC-MAN Premium', size_bytes=100788224, currency='USD', price=3.99, rating_count_tot=21292, rating_count_ver=26, user_rating=4.0, user_rating_ver=4.5, ver='6.3.5', cont_rating='4+', prime_genre='Games', sup_devices.num=38, ipadSc_urls.num=5, lang.num=10, vpp_lic=1)]\n"
     ]
    }
   ],
   "source": [
    "# Print schema allows us to visualise the data structure at a high level. \n",
    "df.printSchema()\n",
    "\n",
    "# We can also use head to print a specific amount of rows, so we can get a better understanding of the data points. \n",
    "# Note that we have to specify 'print' depending on the method we're using. Otherwise it may not show up!\n",
    "print(df.head(1))"
   ]
  },
  {
   "cell_type": "code",
   "execution_count": 41,
   "metadata": {},
   "outputs": [
    {
     "name": "stdout",
     "output_type": "stream",
     "text": [
      "+-------+--------------------+-------------------+--------+------------------+------------------+------------------+-----------------+-----------------+------------------+-----------+-----------+-------------------+\n",
      "|summary|                  id|         size_bytes|currency|             price|  rating_count_tot|  rating_count_ver|      user_rating|  user_rating_ver|               ver|cont_rating|prime_genre|            vpp_lic|\n",
      "+-------+--------------------+-------------------+--------+------------------+------------------+------------------+-----------------+-----------------+------------------+-----------+-----------+-------------------+\n",
      "|  count|                7197|               7197|    7197|              7197|              7197|              7197|             7197|             7197|              7197|       7197|       7197|               7197|\n",
      "|   mean| 8.631309974515771E8| 1.99134453825066E8|    null|1.7262178685562626|12892.907183548701| 460.3739057940809|3.526955675976101|3.253577879672086| 7.968864512292031|       null|       null| 0.9930526608309017|\n",
      "| stddev|2.7123675589291865E8|3.592069135387029E8|    null| 5.833005786951921| 75739.40867472602|3920.4551833619757|1.517947593629884|1.809362823117772|107.74333834045682|       null|       null|0.08306643356297923|\n",
      "|    min|           281656475|             589824|     USD|               0.0|                 0|                 0|              0.0|              0.0|            0.0.15|        12+|       Book|                  0|\n",
      "|    max|          1188375727|         4025969664|     USD|            299.99|           2974676|            177050|              5.0|              5.0|            v3.6.9|         9+|    Weather|                  1|\n",
      "+-------+--------------------+-------------------+--------+------------------+------------------+------------------+-----------------+-----------------+------------------+-----------+-----------+-------------------+\n",
      "\n"
     ]
    }
   ],
   "source": [
    "# Let's select the columns that are integers, and use the describe method again.\n",
    "# We see that the average age is 41. The average bank account balance is $1,074. \n",
    "# And they spoke to call centre reps for approx. 931 seconds on average. \n",
    "df.select('id','size_bytes','currency','price','rating_count_tot','rating_count_ver','user_rating','user_rating_ver','ver','cont_rating','prime_genre','vpp_lic').describe().show()"
   ]
  },
  {
   "cell_type": "code",
   "execution_count": 43,
   "metadata": {},
   "outputs": [
    {
     "name": "stdout",
     "output_type": "stream",
     "text": [
      "+-----+\n",
      "|price|\n",
      "+-----+\n",
      "| 3.99|\n",
      "|  0.0|\n",
      "|  0.0|\n",
      "|  0.0|\n",
      "|  0.0|\n",
      "| 0.99|\n",
      "|  0.0|\n",
      "|  0.0|\n",
      "| 9.99|\n",
      "| 3.99|\n",
      "| 4.99|\n",
      "| 7.99|\n",
      "|  0.0|\n",
      "|  0.0|\n",
      "| 4.99|\n",
      "|  0.0|\n",
      "|  0.0|\n",
      "|  0.0|\n",
      "|  0.0|\n",
      "| 2.99|\n",
      "+-----+\n",
      "only showing top 20 rows\n",
      "\n"
     ]
    }
   ],
   "source": [
    "# Let's select the balance column and assign it to a variable. \n",
    "price_col = df.select('price')\n",
    "\n",
    "# We can then use the show method on that variable.\n",
    "price_col.show()"
   ]
  },
  {
   "cell_type": "code",
   "execution_count": 46,
   "metadata": {},
   "outputs": [
    {
     "name": "stdout",
     "output_type": "stream",
     "text": [
      "+---+---------+--------------------+----------+--------+-----+----------------+----------------+-----------+---------------+-------+-----------+-----------------+---------------+---------------+--------+-------+------------------+\n",
      "|_c0|       id|          track_name|size_bytes|currency|price|rating_count_tot|rating_count_ver|user_rating|user_rating_ver|    ver|cont_rating|      prime_genre|sup_devices.num|ipadSc_urls.num|lang.num|vpp_lic|    price_times_10|\n",
      "+---+---------+--------------------+----------+--------+-----+----------------+----------------+-----------+---------------+-------+-----------+-----------------+---------------+---------------+--------+-------+------------------+\n",
      "|  1|281656475|     PAC-MAN Premium| 100788224|     USD| 3.99|           21292|              26|        4.0|            4.5|  6.3.5|         4+|            Games|             38|              5|      10|      1|39.900000000000006|\n",
      "|  2|281796108|Evernote - stay o...| 158578688|     USD|  0.0|          161065|              26|        4.0|            3.5|  8.2.2|         4+|     Productivity|             37|              5|      23|      1|               0.0|\n",
      "|  3|281940292|WeatherBug - Loca...| 100524032|     USD|  0.0|          188583|            2822|        3.5|            4.5|  5.0.0|         4+|          Weather|             37|              5|       3|      1|               0.0|\n",
      "|  4|282614216|eBay: Best App to...| 128512000|     USD|  0.0|          262241|             649|        4.0|            4.5| 5.10.0|        12+|         Shopping|             37|              5|       9|      1|               0.0|\n",
      "|  5|282935706|               Bible|  92774400|     USD|  0.0|          985920|            5320|        4.5|            5.0|  7.5.1|         4+|        Reference|             37|              5|      45|      1|               0.0|\n",
      "|  6|283619399|    Shanghai Mahjong|  10485713|     USD| 0.99|            8253|            5516|        4.0|            4.0|    1.8|         4+|            Games|             47|              5|       1|      1|               9.9|\n",
      "|  7|283646709|PayPal - Send and...| 227795968|     USD|  0.0|          119487|             879|        4.0|            4.5| 6.12.0|         4+|          Finance|             37|              0|      19|      1|               0.0|\n",
      "|  8|284035177|Pandora - Music &...| 130242560|     USD|  0.0|         1126879|            3594|        4.0|            4.5|  8.4.1|        12+|            Music|             37|              4|       1|      1|               0.0|\n",
      "|  9|284666222|PCalc - The Best ...|  49250304|     USD| 9.99|            1117|               4|        4.5|            5.0|  3.6.6|         4+|        Utilities|             37|              5|       1|      1|              99.9|\n",
      "| 10|284736660|         Ms. PAC-MAN|  70023168|     USD| 3.99|            7885|              40|        4.0|            4.0|  4.0.4|         4+|            Games|             38|              0|      10|      1|39.900000000000006|\n",
      "| 11|284791396|Solitaire by Mobi...|  49618944|     USD| 4.99|           76720|            4017|        4.5|            4.5| 4.10.1|         4+|            Games|             38|              4|      11|      1|49.900000000000006|\n",
      "| 12|284815117|    SCRABBLE Premium| 227547136|     USD| 7.99|          105776|             166|        3.5|            2.5| 5.19.0|         4+|            Games|             37|              0|       6|      1|              79.9|\n",
      "| 13|284815942|Google – Search m...| 179979264|     USD|  0.0|          479440|             203|        3.5|            4.0|     27|        17+|        Utilities|             37|              4|      33|      1|               0.0|\n",
      "| 14|284847138|Bank of America -...| 160925696|     USD|  0.0|          119773|            2336|        3.5|            4.5|  7.3.8|         4+|          Finance|             37|              0|       2|      1|               0.0|\n",
      "| 15|284862767|            FreeCell|  55153664|     USD| 4.99|            6340|             668|        4.5|            4.5|  4.0.3|         4+|            Games|             38|              5|       2|      1|49.900000000000006|\n",
      "| 16|284876795|TripAdvisor Hotel...| 207907840|     USD|  0.0|           56194|              87|        4.0|            3.5|   21.1|         4+|           Travel|             37|              1|      26|      1|               0.0|\n",
      "| 17|284882215|            Facebook| 389879808|     USD|  0.0|         2974676|             212|        3.5|            3.5|     95|         4+|Social Networking|             37|              1|      29|      1|               0.0|\n",
      "| 18|284910350|Yelp - Nearby Res...| 167407616|     USD|  0.0|          223885|            3726|        4.0|            4.5|11.15.0|        12+|           Travel|             37|              5|      18|      1|               0.0|\n",
      "| 20|284993459|Shazam - Discover...| 147093504|     USD|  0.0|          402925|             136|        4.0|            4.5| 11.0.3|        12+|            Music|             37|              3|      16|      1|               0.0|\n",
      "| 21|285005463|Crash Bandicoot N...|  10735026|     USD| 2.99|           31456|            4178|        4.0|            3.5|  1.0.0|         4+|            Games|             47|              0|       1|      1|29.900000000000002|\n",
      "+---+---------+--------------------+----------+--------+-----+----------------+----------------+-----------+---------------+-------+-----------+-----------------+---------------+---------------+--------+-------+------------------+\n",
      "only showing top 20 rows\n",
      "\n",
      "+---+---------+--------------------+----------+--------+-----+----------------+----------------+-----------+---------------+-------+-----------+-----------------+---------------+---------------+--------+-------+\n",
      "|_c0|       id|          track_name|size_bytes|currency|price|rating_count_tot|rating_count_ver|user_rating|user_rating_ver|    ver|cont_rating|      prime_genre|sup_devices.num|ipadSc_urls.num|lang.num|vpp_lic|\n",
      "+---+---------+--------------------+----------+--------+-----+----------------+----------------+-----------+---------------+-------+-----------+-----------------+---------------+---------------+--------+-------+\n",
      "|  1|281656475|     PAC-MAN Premium| 100788224|     USD| 3.99|           21292|              26|        4.0|            4.5|  6.3.5|         4+|            Games|             38|              5|      10|      1|\n",
      "|  2|281796108|Evernote - stay o...| 158578688|     USD|  0.0|          161065|              26|        4.0|            3.5|  8.2.2|         4+|     Productivity|             37|              5|      23|      1|\n",
      "|  3|281940292|WeatherBug - Loca...| 100524032|     USD|  0.0|          188583|            2822|        3.5|            4.5|  5.0.0|         4+|          Weather|             37|              5|       3|      1|\n",
      "|  4|282614216|eBay: Best App to...| 128512000|     USD|  0.0|          262241|             649|        4.0|            4.5| 5.10.0|        12+|         Shopping|             37|              5|       9|      1|\n",
      "|  5|282935706|               Bible|  92774400|     USD|  0.0|          985920|            5320|        4.5|            5.0|  7.5.1|         4+|        Reference|             37|              5|      45|      1|\n",
      "|  6|283619399|    Shanghai Mahjong|  10485713|     USD| 0.99|            8253|            5516|        4.0|            4.0|    1.8|         4+|            Games|             47|              5|       1|      1|\n",
      "|  7|283646709|PayPal - Send and...| 227795968|     USD|  0.0|          119487|             879|        4.0|            4.5| 6.12.0|         4+|          Finance|             37|              0|      19|      1|\n",
      "|  8|284035177|Pandora - Music &...| 130242560|     USD|  0.0|         1126879|            3594|        4.0|            4.5|  8.4.1|        12+|            Music|             37|              4|       1|      1|\n",
      "|  9|284666222|PCalc - The Best ...|  49250304|     USD| 9.99|            1117|               4|        4.5|            5.0|  3.6.6|         4+|        Utilities|             37|              5|       1|      1|\n",
      "| 10|284736660|         Ms. PAC-MAN|  70023168|     USD| 3.99|            7885|              40|        4.0|            4.0|  4.0.4|         4+|            Games|             38|              0|      10|      1|\n",
      "| 11|284791396|Solitaire by Mobi...|  49618944|     USD| 4.99|           76720|            4017|        4.5|            4.5| 4.10.1|         4+|            Games|             38|              4|      11|      1|\n",
      "| 12|284815117|    SCRABBLE Premium| 227547136|     USD| 7.99|          105776|             166|        3.5|            2.5| 5.19.0|         4+|            Games|             37|              0|       6|      1|\n",
      "| 13|284815942|Google – Search m...| 179979264|     USD|  0.0|          479440|             203|        3.5|            4.0|     27|        17+|        Utilities|             37|              4|      33|      1|\n",
      "| 14|284847138|Bank of America -...| 160925696|     USD|  0.0|          119773|            2336|        3.5|            4.5|  7.3.8|         4+|          Finance|             37|              0|       2|      1|\n",
      "| 15|284862767|            FreeCell|  55153664|     USD| 4.99|            6340|             668|        4.5|            4.5|  4.0.3|         4+|            Games|             38|              5|       2|      1|\n",
      "| 16|284876795|TripAdvisor Hotel...| 207907840|     USD|  0.0|           56194|              87|        4.0|            3.5|   21.1|         4+|           Travel|             37|              1|      26|      1|\n",
      "| 17|284882215|            Facebook| 389879808|     USD|  0.0|         2974676|             212|        3.5|            3.5|     95|         4+|Social Networking|             37|              1|      29|      1|\n",
      "| 18|284910350|Yelp - Nearby Res...| 167407616|     USD|  0.0|          223885|            3726|        4.0|            4.5|11.15.0|        12+|           Travel|             37|              5|      18|      1|\n",
      "| 20|284993459|Shazam - Discover...| 147093504|     USD|  0.0|          402925|             136|        4.0|            4.5| 11.0.3|        12+|            Music|             37|              3|      16|      1|\n",
      "| 21|285005463|Crash Bandicoot N...|  10735026|     USD| 2.99|           31456|            4178|        4.0|            3.5|  1.0.0|         4+|            Games|             47|              0|       1|      1|\n",
      "+---+---------+--------------------+----------+--------+-----+----------------+----------------+-----------+---------------+-------+-----------+-----------------+---------------+---------------+--------+-------+\n",
      "only showing top 20 rows\n",
      "\n"
     ]
    }
   ],
   "source": [
    "# We can also add columns and manipulate the DataFrame. Let's times balance by 10, and add the output to a new column.\n",
    "df.withColumn('price_times_10',df['price']*10).show()\n",
    "# Question: If we print the df DataFrame again, why is the 'balance_times_10 column' missing?\n",
    "df.show()\n"
   ]
  },
  {
   "cell_type": "code",
   "execution_count": 50,
   "metadata": {},
   "outputs": [
    {
     "name": "stdout",
     "output_type": "stream",
     "text": [
      "+---+---------+--------------------+----------+--------+------+----------------+----------------+-----------+---------------+-------+-----------+------------+---------------+---------------+--------+-------+\n",
      "|_c0|       id|          track_name|size_bytes|currency| price|rating_count_tot|rating_count_ver|user_rating|user_rating_ver|    ver|cont_rating| prime_genre|sup_devices.num|ipadSc_urls.num|lang.num|vpp_lic|\n",
      "+---+---------+--------------------+----------+--------+------+----------------+----------------+-----------+---------------+-------+-----------+------------+---------------+---------------+--------+-------+\n",
      "|  9|284666222|PCalc - The Best ...|  49250304|     USD|  9.99|            1117|               4|        4.5|            5.0|  3.6.6|         4+|   Utilities|             37|              5|       1|      1|\n",
      "| 12|284815117|    SCRABBLE Premium| 227547136|     USD|  7.99|          105776|             166|        3.5|            2.5| 5.19.0|         4+|       Games|             37|              0|       6|      1|\n",
      "| 25|286070473|Mileage Log | Fah...|  71203840|     USD|  5.99|               8|               0|        4.5|            0.0|  9.0.5|         4+|    Business|             37|              5|       3|      1|\n",
      "| 33|288419283|          RadarScope| 172772352|     USD|  9.99|            3449|              23|        4.0|            4.5|  3.4.1|         4+|     Weather|             37|              5|       1|      1|\n",
      "| 74|298206806|iReal Pro - Music...|  63283200|     USD| 12.99|            1390|             143|        4.5|            5.0|  7.0.1|         4+|       Music|             37|              5|      33|      1|\n",
      "| 77|299029654|                 大辞林| 210088960|     USD| 21.99|              64|               0|        4.5|            0.0|  4.1.1|         4+|   Reference|             37|              5|       2|      1|\n",
      "|129|308368164|Proloquo2Go - Sym...| 723764224|     USD|249.99|             773|              10|        4.0|            3.5|  5.0.1|         4+|   Education|             37|              5|       3|      1|\n",
      "|153|312220102|MindNode – Deligh...|  52294656|     USD|  9.99|            1296|               4|        4.0|            5.0|  4.5.3|         4+|Productivity|             37|              4|      13|      1|\n",
      "|173|317904170|          The Sims 3| 430128128|     USD|  6.99|           54408|              65|        3.5|            2.0| 1.4.10|        12+|       Games|             37|              5|       8|      1|\n",
      "|175|318304532|Chess Pro with Co...|  69960704|     USD|  9.99|            8138|             107|        4.0|            4.5|   2.89|         4+|       Games|             37|              5|      13|      1|\n",
      "|180|319295332|TuneIn Radio Pro ...| 101925888|     USD|  9.99|           71609|              99|        4.5|            4.0|   11.9|        12+|       Music|             37|              4|      14|      1|\n",
      "|184|320279293|      NAVIGON Europe| 144412672|     USD| 74.99|             927|               3|        3.5|            2.5|   2.17|         4+|  Navigation|             37|              2|      21|      1|\n",
      "|209|325962257|     My Measures PRO|  79882240|     USD|  7.99|            1701|              35|        4.0|            4.5|   6.06|         4+|Productivity|             37|              5|      21|      1|\n",
      "|226|329127297|    Gaia GPS Classic|  53097472|     USD| 19.99|            2429|               8|        4.5|            3.5|10.9.13|         4+|  Navigation|             37|              5|      16|      1|\n",
      "|262|335545504| King of Dragon Pass| 364490752|     USD|  9.99|             882|              85|        5.0|            5.0|  2.3.2|        12+|       Games|             43|              5|       1|      1|\n",
      "|301|341691394|Refills Calendar ...|  35864576|     USD|  9.99|             196|               3|        4.0|            5.0|  4.0.1|         4+|Productivity|             38|              5|       2|      1|\n",
      "|366|354972939|       FINAL FANTASY| 114843648|     USD|  7.99|            6091|              75|        4.0|            3.5|  1.1.2|         9+|       Games|             38|              3|       8|      1|\n",
      "|367|354974729|    FINAL FANTASY II| 199450624|     USD|  7.99|            2754|              55|        4.0|            2.5|  1.1.1|         9+|       Games|             38|              5|       6|      1|\n",
      "|371|355709084|Jourist Weltübers...| 147066880|     USD|  7.99|               0|               0|        0.0|            0.0|    2.8|         4+|      Travel|             40|              5|       1|      1|\n",
      "|388|360593530|          Notability| 122235904|     USD|  9.99|           17594|             143|        4.0|            4.0|  6.5.2|         4+|Productivity|             37|              5|      14|      1|\n",
      "+---+---------+--------------------+----------+--------+------+----------------+----------------+-----------+---------------+-------+-----------+------------+---------------+---------------+--------+-------+\n",
      "only showing top 20 rows\n",
      "\n",
      "+-----------+------------+\n",
      "|user_rating| prime_genre|\n",
      "+-----------+------------+\n",
      "|        4.0|   Education|\n",
      "|        3.5|  Navigation|\n",
      "|        4.5|   Education|\n",
      "|        4.0|   Education|\n",
      "|        4.5|   Education|\n",
      "|        4.5|Productivity|\n",
      "|        4.0|    Business|\n",
      "+-----------+------------+\n",
      "\n"
     ]
    }
   ],
   "source": [
    "# Let's try out some additional DataFrame methods.\n",
    "# How would we identify individuals with a balance above $5,000? Using filter! \n",
    "df.filter(\"price > 5\").show()\n",
    "\n",
    "# We can also use more advanced filters. For example, let's see the jobs of people with over $2,500 in their bank account.\n",
    "df.filter(\"price > 50\").select('user_rating','prime_genre').show()\n"
   ]
  },
  {
   "cell_type": "code",
   "execution_count": 52,
   "metadata": {},
   "outputs": [
    {
     "name": "stdout",
     "output_type": "stream",
     "text": [
      "+------+-----------+-------------+\n",
      "| price|user_rating|  prime_genre|\n",
      "+------+-----------+-------------+\n",
      "|249.99|        4.0|    Education|\n",
      "| 74.99|        3.5|   Navigation|\n",
      "| 24.99|        4.0|    Education|\n",
      "| 47.99|        0.0|    Reference|\n",
      "| 24.99|        4.0|        Games|\n",
      "| 24.99|        4.0|        Music|\n",
      "| 27.99|        4.0| Food & Drink|\n",
      "|299.99|        4.0|    Education|\n",
      "| 49.99|        4.0|        Music|\n",
      "| 24.99|        1.0|      Medical|\n",
      "| 20.99|        0.0|   Navigation|\n",
      "| 39.99|        4.0|        Music|\n",
      "| 59.99|        4.0|     Business|\n",
      "| 24.99|        0.0|    Utilities|\n",
      "| 22.99|        3.5|Photo & Video|\n",
      "| 22.99|        0.0|    Reference|\n",
      "| 23.99|        0.0|    Reference|\n",
      "+------+-----------+-------------+\n",
      "\n"
     ]
    }
   ],
   "source": [
    "# What if we wanted to identify those that were under 40 and had over $2,500 in their account? \n",
    "# We can use multiple conditions.\n",
    "df.filter(\"price > 20 AND user_rating < 4.5\").select('price','user_rating','prime_genre').show()"
   ]
  },
  {
   "cell_type": "code",
   "execution_count": 57,
   "metadata": {},
   "outputs": [
    {
     "name": "stdout",
     "output_type": "stream",
     "text": [
      "+-----------+------------------+---------------------+---------------------+----------------+--------------------+------------------+\n",
      "|user_rating|        avg(price)|avg(rating_count_tot)|avg(rating_count_ver)|avg(user_rating)|avg(user_rating_ver)|      avg(vpp_lic)|\n",
      "+-----------+------------------+---------------------+---------------------+----------------+--------------------+------------------+\n",
      "|        0.0|1.0801291711517784|                  0.0|                  0.0|             0.0|                 0.0|0.9795479009687836|\n",
      "|        3.5| 1.757435897435901|   15503.266381766382|   138.28774928774928|             3.5|   3.158119658119658|0.9928774928774928|\n",
      "|        4.5| 1.802110401802427|   22029.743522343222|    803.0623357116035|             4.5|   4.199023657529103|0.9981224183251971|\n",
      "|        2.5|1.1032142857142866|    5419.933673469388|    50.53061224489796|             2.5|  2.2933673469387754|0.9846938775510204|\n",
      "|        1.0|1.9265909090909084|   29.568181818181817|   17.204545454545453|             1.0|  0.9772727272727273|               1.0|\n",
      "|        4.0| 2.209864698646936|    7836.835793357934|   301.08425584255843|             4.0|  3.7367773677736777| 0.995079950799508|\n",
      "|        3.0| 1.288067885117496|    7487.130548302872|   234.92689295039165|             3.0|   2.647519582245431|0.9869451697127938|\n",
      "|        2.0| 1.155754716981131|    2907.235849056604|   62.075471698113205|             2.0|  1.9858490566037736|0.9905660377358491|\n",
      "|        1.5|1.2089285714285716|                203.5|   22.482142857142858|             1.5|                1.25|0.9821428571428571|\n",
      "|        5.0|1.6455894308943124|   12699.829268292682|    974.8739837398374|             5.0|   4.378048780487805|0.9939024390243902|\n",
      "+-----------+------------------+---------------------+---------------------+----------------+--------------------+------------------+\n",
      "\n"
     ]
    }
   ],
   "source": [
    "df.select('price','rating_count_tot','rating_count_ver','user_rating','user_rating_ver','ver','cont_rating','vpp_lic').groupBy('user_rating').mean().show()"
   ]
  },
  {
   "cell_type": "code",
   "execution_count": 70,
   "metadata": {},
   "outputs": [
    {
     "name": "stdout",
     "output_type": "stream",
     "text": [
      "Sorted by price\n",
      "+-----------------+--------------------+---------------------+---------------------+------------------+--------------------+------------------+\n",
      "|      prime_genre|          avg(price)|avg(rating_count_tot)|avg(rating_count_ver)|  avg(user_rating)|avg(user_rating_ver)|      avg(vpp_lic)|\n",
      "+-----------------+--------------------+---------------------+---------------------+------------------+--------------------+------------------+\n",
      "|         Shopping|0.016311475409836067|    18615.32786885246|    709.0081967213115| 3.540983606557377|  2.6188524590163933|               1.0|\n",
      "|Social Networking|  0.3398802395209582|    45498.89820359281|    556.2874251497007|2.9850299401197606|  2.4820359281437128|0.9880239520958084|\n",
      "|          Finance| 0.42115384615384627|   11047.653846153846|   250.57692307692307|2.4326923076923075|  1.6346153846153846|               1.0|\n",
      "|             News|  0.5177333333333334|   13015.066666666668|               113.72|              2.98|  2.2133333333333334|              0.96|\n",
      "|         Catalogs|               0.799|               1732.5|                344.6|               2.1|                 2.1|               1.0|\n",
      "|        Lifestyle|  0.8854166666666661|    6161.763888888889|    712.1111111111111|2.8055555555555554|             2.21875|               1.0|\n",
      "|    Entertainment|  0.8897009345794415|    7533.678504672897|   140.89345794392523|3.2467289719626167|                 2.9|0.9981308411214953|\n",
      "|           Sports|  0.9530701754385958|   14026.929824561403|   128.44736842105263| 2.982456140350877|  2.5482456140350878|0.9473684210526315|\n",
      "|           Travel|  1.1203703703703698|   14129.444444444445|    133.8641975308642| 3.376543209876543|  2.8209876543209877|0.9753086419753086|\n",
      "|            Games|  1.4329233557741567|   13691.996633868463|    575.2801657172449|3.6850077679958573|  3.5451838425686173|0.9914552045572242|\n",
      "|    Photo & Video|  1.4732951289398313|   14352.280802292264|   282.83094555873924|3.8008595988538683|    3.48567335243553|               1.0|\n",
      "|     Food & Drink|  1.5523809523809518|   13938.619047619048|    320.6031746031746|3.1825396825396823|  2.4126984126984126|               1.0|\n",
      "|          Weather|  1.6054166666666658|   22181.027777777777|              885.875|3.5972222222222223|  3.2222222222222223|               1.0|\n",
      "|        Utilities|  1.6476209677419387|    6863.822580645161|    755.0362903225806| 3.278225806451613|  2.8629032258064515|0.9959677419354839|\n",
      "|             Book|  1.7905357142857155|            5125.4375|    70.71428571428571|2.4776785714285716|   2.111607142857143|               1.0|\n",
      "| Health & Fitness|  1.9164444444444473|    9913.172222222222|   211.20555555555555|               3.7|  3.3694444444444445|               1.0|\n",
      "|        Education|   4.028233995584995|   2239.2295805739514|                239.0| 3.376379690949227|  2.9525386313465782|               1.0|\n",
      "|       Navigation|  4.1247826086956545|    11853.95652173913|   110.19565217391305|2.6847826086956523|   2.152173913043478|0.9782608695652174|\n",
      "|     Productivity|  4.3305617977528135|   8051.3258426966295|   121.07303370786516|  4.00561797752809|  3.7331460674157304|0.9943820224719101|\n",
      "|            Music|   4.835434782608699|   28842.021739130436|   344.95652173913044|3.9782608695652173|  3.8115942028985508|               1.0|\n",
      "+-----------------+--------------------+---------------------+---------------------+------------------+--------------------+------------------+\n",
      "only showing top 20 rows\n",
      "\n"
     ]
    }
   ],
   "source": [
    "# To simplify things, let's split this into two steps. First, let's create a variable then order by age.\n",
    "# Careful when using show()! Otherwise the variable type will change and you won't be able to order it. \n",
    "group_prime_genre_df = df.select('price','rating_count_tot','rating_count_ver','user_rating','user_rating_ver','ver','cont_rating','vpp_lic','prime_genre').groupBy('prime_genre').mean()\n",
    "\n",
    "# Note that we have to use 'avg(age)' instead of age. Why? Because when you use mean(), it changes the feature's name (as you can see below).\n",
    "print(\"Sorted by price\")\n",
    "group_prime_genre_df.orderBy('avg(price)').show()\n"
   ]
  },
  {
   "cell_type": "code",
   "execution_count": 73,
   "metadata": {},
   "outputs": [
    {
     "name": "stdout",
     "output_type": "stream",
     "text": [
      "Sorted by avg(price)\n",
      "+-----------+------------------+---------------------+---------------------+----------------+--------------------+------------------+\n",
      "|user_rating|        avg(price)|avg(rating_count_tot)|avg(rating_count_ver)|avg(user_rating)|avg(user_rating_ver)|      avg(vpp_lic)|\n",
      "+-----------+------------------+---------------------+---------------------+----------------+--------------------+------------------+\n",
      "|        0.0|1.0801291711517784|                  0.0|                  0.0|             0.0|                 0.0|0.9795479009687836|\n",
      "|        2.5|1.1032142857142866|    5419.933673469388|    50.53061224489796|             2.5|  2.2933673469387754|0.9846938775510204|\n",
      "|        2.0| 1.155754716981131|    2907.235849056604|   62.075471698113205|             2.0|  1.9858490566037736|0.9905660377358491|\n",
      "|        1.5|1.2089285714285716|                203.5|   22.482142857142858|             1.5|                1.25|0.9821428571428571|\n",
      "|        3.0| 1.288067885117496|    7487.130548302872|   234.92689295039165|             3.0|   2.647519582245431|0.9869451697127938|\n",
      "|        5.0|1.6455894308943124|   12699.829268292682|    974.8739837398374|             5.0|   4.378048780487805|0.9939024390243902|\n",
      "|        3.5| 1.757435897435901|   15503.266381766382|   138.28774928774928|             3.5|   3.158119658119658|0.9928774928774928|\n",
      "|        4.5| 1.802110401802427|   22029.743522343222|    803.0623357116035|             4.5|   4.199023657529103|0.9981224183251971|\n",
      "|        1.0|1.9265909090909084|   29.568181818181817|   17.204545454545453|             1.0|  0.9772727272727273|               1.0|\n",
      "|        4.0| 2.209864698646936|    7836.835793357934|   301.08425584255843|             4.0|  3.7367773677736777| 0.995079950799508|\n",
      "+-----------+------------------+---------------------+---------------------+----------------+--------------------+------------------+\n",
      "\n"
     ]
    }
   ],
   "source": [
    "# To simplify things, let's split this into two steps. First, let's create a variable then order by age.\n",
    "# Careful when using show()! Otherwise the variable type will change and you won't be able to order it. \n",
    "group_user_rating_df = df.select('price','rating_count_tot','rating_count_ver','user_rating','user_rating_ver','ver','cont_rating','vpp_lic','prime_genre').groupBy('user_rating').mean()\n",
    "\n",
    "# Note that we have to use 'avg(age)' instead of age. Why? Because when you use mean(), it changes the feature's name (as you can see below).\n",
    "print(\"Sorted by avg(price)\")\n",
    "group_user_rating_df.orderBy('avg(price)').show()"
   ]
  },
  {
   "cell_type": "code",
   "execution_count": 105,
   "metadata": {},
   "outputs": [
    {
     "name": "stdout",
     "output_type": "stream",
     "text": [
      "+-----------------+--------------------+---------------------+---------------------+------------------+--------------------+------------------+\n",
      "|      prime_genre|          avg(price)|avg(rating_count_tot)|avg(rating_count_ver)|  avg(user_rating)|avg(user_rating_ver)|      avg(vpp_lic)|\n",
      "+-----------------+--------------------+---------------------+---------------------+------------------+--------------------+------------------+\n",
      "|        Education|   4.028233995584995|   2239.2295805739514|                239.0| 3.376379690949227|  2.9525386313465782|               1.0|\n",
      "|       Navigation|  4.1247826086956545|    11853.95652173913|   110.19565217391305|2.6847826086956523|   2.152173913043478|0.9782608695652174|\n",
      "|    Entertainment|  0.8897009345794415|    7533.678504672897|   140.89345794392523|3.2467289719626167|                 2.9|0.9981308411214953|\n",
      "|           Sports|  0.9530701754385958|   14026.929824561403|   128.44736842105263| 2.982456140350877|  2.5482456140350878|0.9473684210526315|\n",
      "|     Food & Drink|  1.5523809523809518|   13938.619047619048|    320.6031746031746|3.1825396825396823|  2.4126984126984126|               1.0|\n",
      "|    Photo & Video|  1.4732951289398313|   14352.280802292264|   282.83094555873924|3.8008595988538683|    3.48567335243553|               1.0|\n",
      "|           Travel|  1.1203703703703698|   14129.444444444445|    133.8641975308642| 3.376543209876543|  2.8209876543209877|0.9753086419753086|\n",
      "|          Finance| 0.42115384615384627|   11047.653846153846|   250.57692307692307|2.4326923076923075|  1.6346153846153846|               1.0|\n",
      "|Social Networking|  0.3398802395209582|    45498.89820359281|    556.2874251497007|2.9850299401197606|  2.4820359281437128|0.9880239520958084|\n",
      "|             Book|  1.7905357142857155|            5125.4375|    70.71428571428571|2.4776785714285716|   2.111607142857143|               1.0|\n",
      "|         Shopping|0.016311475409836067|    18615.32786885246|    709.0081967213115| 3.540983606557377|  2.6188524590163933|               1.0|\n",
      "|        Reference|   4.836875000000003|          22410.84375|           868.671875|          3.453125|             3.09375|               1.0|\n",
      "| Health & Fitness|  1.9164444444444473|    9913.172222222222|   211.20555555555555|               3.7|  3.3694444444444445|               1.0|\n",
      "|        Utilities|  1.6476209677419387|    6863.822580645161|    755.0362903225806| 3.278225806451613|  2.8629032258064515|0.9959677419354839|\n",
      "|     Productivity|  4.3305617977528135|   8051.3258426966295|   121.07303370786516|  4.00561797752809|  3.7331460674157304|0.9943820224719101|\n",
      "|            Games|  1.4329233557741567|   13691.996633868463|    575.2801657172449|3.6850077679958573|  3.5451838425686173|0.9914552045572242|\n",
      "|            Music|   4.835434782608699|   28842.021739130436|   344.95652173913044|3.9782608695652173|  3.8115942028985508|               1.0|\n",
      "|        Lifestyle|  0.8854166666666661|    6161.763888888889|    712.1111111111111|2.8055555555555554|             2.21875|               1.0|\n",
      "|         Business|   5.116315789473685|    4788.087719298245|    275.4561403508772| 3.745614035087719|  3.3333333333333335|               1.0|\n",
      "|         Catalogs|               0.799|               1732.5|                344.6|               2.1|                 2.1|               1.0|\n",
      "+-----------------+--------------------+---------------------+---------------------+------------------+--------------------+------------------+\n",
      "only showing top 20 rows\n",
      "\n",
      "+-----------------+----------------------------+---------------------------------------+---------------------------------------+----------------------------------+--------------------------------------+------------------------------+\n",
      "|      prime_genre|format_number(avg(price), 2)|format_number(avg(rating_count_tot), 2)|format_number(avg(rating_count_ver), 2)|format_number(avg(user_rating), 2)|format_number(avg(user_rating_ver), 2)|format_number(avg(vpp_lic), 2)|\n",
      "+-----------------+----------------------------+---------------------------------------+---------------------------------------+----------------------------------+--------------------------------------+------------------------------+\n",
      "|        Education|                        4.03|                               2,239.23|                                 239.00|                              3.38|                                  2.95|                          1.00|\n",
      "|       Navigation|                        4.12|                              11,853.96|                                 110.20|                              2.68|                                  2.15|                          0.98|\n",
      "|    Entertainment|                        0.89|                               7,533.68|                                 140.89|                              3.25|                                  2.90|                          1.00|\n",
      "|           Sports|                        0.95|                              14,026.93|                                 128.45|                              2.98|                                  2.55|                          0.95|\n",
      "|     Food & Drink|                        1.55|                              13,938.62|                                 320.60|                              3.18|                                  2.41|                          1.00|\n",
      "|    Photo & Video|                        1.47|                              14,352.28|                                 282.83|                              3.80|                                  3.49|                          1.00|\n",
      "|           Travel|                        1.12|                              14,129.44|                                 133.86|                              3.38|                                  2.82|                          0.98|\n",
      "|          Finance|                        0.42|                              11,047.65|                                 250.58|                              2.43|                                  1.63|                          1.00|\n",
      "|Social Networking|                        0.34|                              45,498.90|                                 556.29|                              2.99|                                  2.48|                          0.99|\n",
      "|             Book|                        1.79|                               5,125.44|                                  70.71|                              2.48|                                  2.11|                          1.00|\n",
      "|         Shopping|                        0.02|                              18,615.33|                                 709.01|                              3.54|                                  2.62|                          1.00|\n",
      "|        Reference|                        4.84|                              22,410.84|                                 868.67|                              3.45|                                  3.09|                          1.00|\n",
      "| Health & Fitness|                        1.92|                               9,913.17|                                 211.21|                              3.70|                                  3.37|                          1.00|\n",
      "|        Utilities|                        1.65|                               6,863.82|                                 755.04|                              3.28|                                  2.86|                          1.00|\n",
      "|     Productivity|                        4.33|                               8,051.33|                                 121.07|                              4.01|                                  3.73|                          0.99|\n",
      "|            Games|                        1.43|                              13,692.00|                                 575.28|                              3.69|                                  3.55|                          0.99|\n",
      "|            Music|                        4.84|                              28,842.02|                                 344.96|                              3.98|                                  3.81|                          1.00|\n",
      "|        Lifestyle|                        0.89|                               6,161.76|                                 712.11|                              2.81|                                  2.22|                          1.00|\n",
      "|         Business|                        5.12|                               4,788.09|                                 275.46|                              3.75|                                  3.33|                          1.00|\n",
      "|         Catalogs|                        0.80|                               1,732.50|                                 344.60|                              2.10|                                  2.10|                          1.00|\n",
      "+-----------------+----------------------------+---------------------------------------+---------------------------------------+----------------------------------+--------------------------------------+------------------------------+\n",
      "only showing top 20 rows\n",
      "\n"
     ]
    },
    {
     "name": "stdout",
     "output_type": "stream",
     "text": [
      "+-----------------+-------------+-------------------+---------------------+---------------------------+-------------------+\n",
      "|     App Category|Average Price|Average Total Count|Average Version Count|Average Version User Rating|Average Vpp License|\n",
      "+-----------------+-------------+-------------------+---------------------+---------------------------+-------------------+\n",
      "|        Education|         4.03|           2,239.23|               239.00|                       2.95|               1.00|\n",
      "|       Navigation|         4.12|          11,853.96|               110.20|                       2.15|               0.98|\n",
      "|    Entertainment|         0.89|           7,533.68|               140.89|                       2.90|               1.00|\n",
      "|           Sports|         0.95|          14,026.93|               128.45|                       2.55|               0.95|\n",
      "|     Food & Drink|         1.55|          13,938.62|               320.60|                       2.41|               1.00|\n",
      "|    Photo & Video|         1.47|          14,352.28|               282.83|                       3.49|               1.00|\n",
      "|           Travel|         1.12|          14,129.44|               133.86|                       2.82|               0.98|\n",
      "|          Finance|         0.42|          11,047.65|               250.58|                       1.63|               1.00|\n",
      "|Social Networking|         0.34|          45,498.90|               556.29|                       2.48|               0.99|\n",
      "|             Book|         1.79|           5,125.44|                70.71|                       2.11|               1.00|\n",
      "|         Shopping|         0.02|          18,615.33|               709.01|                       2.62|               1.00|\n",
      "|        Reference|         4.84|          22,410.84|               868.67|                       3.09|               1.00|\n",
      "| Health & Fitness|         1.92|           9,913.17|               211.21|                       3.37|               1.00|\n",
      "|        Utilities|         1.65|           6,863.82|               755.04|                       2.86|               1.00|\n",
      "|     Productivity|         4.33|           8,051.33|               121.07|                       3.73|               0.99|\n",
      "|            Games|         1.43|          13,692.00|               575.28|                       3.55|               0.99|\n",
      "|            Music|         4.84|          28,842.02|               344.96|                       3.81|               1.00|\n",
      "|        Lifestyle|         0.89|           6,161.76|               712.11|                       2.22|               1.00|\n",
      "|         Business|         5.12|           4,788.09|               275.46|                       3.33|               1.00|\n",
      "|         Catalogs|         0.80|           1,732.50|               344.60|                       2.10|               1.00|\n",
      "+-----------------+-------------+-------------------+---------------------+---------------------------+-------------------+\n",
      "only showing top 20 rows\n",
      "\n",
      "Average Price, Balance and Duration by App Category\n",
      "+-----------------+-------------+-------------------+---------------------+---------------------------+-------------------+\n",
      "|     App Category|Average Price|Average Total Count|Average Version Count|Average Version User Rating|Average Vpp License|\n",
      "+-----------------+-------------+-------------------+---------------------+---------------------------+-------------------+\n",
      "|         Shopping|         0.02|          18,615.33|               709.01|                       2.62|               1.00|\n",
      "|Social Networking|         0.34|          45,498.90|               556.29|                       2.48|               0.99|\n",
      "|          Finance|         0.42|          11,047.65|               250.58|                       1.63|               1.00|\n",
      "|             News|         0.52|          13,015.07|               113.72|                       2.21|               0.96|\n",
      "|         Catalogs|         0.80|           1,732.50|               344.60|                       2.10|               1.00|\n",
      "|    Entertainment|         0.89|           7,533.68|               140.89|                       2.90|               1.00|\n",
      "|        Lifestyle|         0.89|           6,161.76|               712.11|                       2.22|               1.00|\n",
      "|           Sports|         0.95|          14,026.93|               128.45|                       2.55|               0.95|\n",
      "|           Travel|         1.12|          14,129.44|               133.86|                       2.82|               0.98|\n",
      "|            Games|         1.43|          13,692.00|               575.28|                       3.55|               0.99|\n",
      "|    Photo & Video|         1.47|          14,352.28|               282.83|                       3.49|               1.00|\n",
      "|     Food & Drink|         1.55|          13,938.62|               320.60|                       2.41|               1.00|\n",
      "|          Weather|         1.61|          22,181.03|               885.88|                       3.22|               1.00|\n",
      "|        Utilities|         1.65|           6,863.82|               755.04|                       2.86|               1.00|\n",
      "|             Book|         1.79|           5,125.44|                70.71|                       2.11|               1.00|\n",
      "| Health & Fitness|         1.92|           9,913.17|               211.21|                       3.37|               1.00|\n",
      "|        Education|         4.03|           2,239.23|               239.00|                       2.95|               1.00|\n",
      "|       Navigation|         4.12|          11,853.96|               110.20|                       2.15|               0.98|\n",
      "|     Productivity|         4.33|           8,051.33|               121.07|                       3.73|               0.99|\n",
      "|        Reference|         4.84|          22,410.84|               868.67|                       3.09|               1.00|\n",
      "+-----------------+-------------+-------------------+---------------------+---------------------------+-------------------+\n",
      "only showing top 20 rows\n",
      "\n"
     ]
    }
   ],
   "source": [
    "from pyspark.sql.functions import format_number, col\n",
    "\n",
    "# Let's start off with this. Just grouping by prime_genre and presenting the mean.\n",
    "group_prime_genre_df = df.select('price','rating_count_tot','rating_count_ver','user_rating','user_rating_ver','ver','cont_rating','vpp_lic','prime_genre').groupBy('prime_genre').mean()\n",
    "group_prime_genre_df.show()\n",
    "\n",
    "# Now that we've calculated the mean, the values for blue-collar and technician are extremely long. \n",
    "# We can use format_number to reduce the total amount of decimals. \n",
    "# The number two represents the amount of decimals we want to be displayed.\n",
    "group_prime_genre_df = group_prime_genre_df.select('prime_genre',\n",
    "                                   format_number('avg(price)',2),\n",
    "                                   format_number('avg(rating_count_tot)',2),\n",
    "                                   format_number('avg(rating_count_ver)',2),\n",
    "                                   format_number('avg(user_rating)',2),\n",
    "                                   format_number('avg(user_rating_ver)',2),\n",
    "                                   format_number('avg(vpp_lic)',2))\n",
    "\n",
    "group_prime_genre_df.show()\n",
    "\n",
    "\n",
    "# But now the column names look quite unprofessional. We can assign an alias to rename each of them.\n",
    "group_prime_genre_df = group_prime_genre_df.select(col('prime_genre').alias('App Category'),\n",
    "                                   col('format_number(avg(price), 2)').alias('Average Price'),\n",
    "                                   col('format_number(avg(rating_count_tot), 2)').alias('Average Total Count'),\n",
    "                                   col('format_number(avg(rating_count_ver), 2)').alias('Average Version Count'),\n",
    "                                   col('format_number(avg(user_rating_ver), 2)').alias('Average Version User Rating'),\n",
    "                                   col('format_number(avg(vpp_lic), 2)').alias('Average Vpp License'))\n",
    "group_prime_genre_df.show()\n",
    "                                 \n",
    "# Finally, let's sort the DataFrame by age.\n",
    "group_prime_genre_df = group_prime_genre_df.orderBy('Average Price')\n",
    "print('Average Price, Balance and Duration by App Category')\n",
    "group_prime_genre_df.show()"
   ]
  },
  {
   "cell_type": "code",
   "execution_count": 99,
   "metadata": {},
   "outputs": [
    {
     "name": "stdout",
     "output_type": "stream",
     "text": [
      "+-----------+------------------+---------------------+---------------------+----------------+--------------------+------------------+\n",
      "|user_rating|        avg(price)|avg(rating_count_tot)|avg(rating_count_ver)|avg(user_rating)|avg(user_rating_ver)|      avg(vpp_lic)|\n",
      "+-----------+------------------+---------------------+---------------------+----------------+--------------------+------------------+\n",
      "|        0.0|1.0801291711517784|                  0.0|                  0.0|             0.0|                 0.0|0.9795479009687836|\n",
      "|        3.5| 1.757435897435901|   15503.266381766382|   138.28774928774928|             3.5|   3.158119658119658|0.9928774928774928|\n",
      "|        4.5| 1.802110401802427|   22029.743522343222|    803.0623357116035|             4.5|   4.199023657529103|0.9981224183251971|\n",
      "|        2.5|1.1032142857142866|    5419.933673469388|    50.53061224489796|             2.5|  2.2933673469387754|0.9846938775510204|\n",
      "|        1.0|1.9265909090909084|   29.568181818181817|   17.204545454545453|             1.0|  0.9772727272727273|               1.0|\n",
      "|        4.0| 2.209864698646936|    7836.835793357934|   301.08425584255843|             4.0|  3.7367773677736777| 0.995079950799508|\n",
      "|        3.0| 1.288067885117496|    7487.130548302872|   234.92689295039165|             3.0|   2.647519582245431|0.9869451697127938|\n",
      "|        2.0| 1.155754716981131|    2907.235849056604|   62.075471698113205|             2.0|  1.9858490566037736|0.9905660377358491|\n",
      "|        1.5|1.2089285714285716|                203.5|   22.482142857142858|             1.5|                1.25|0.9821428571428571|\n",
      "|        5.0|1.6455894308943124|   12699.829268292682|    974.8739837398374|             5.0|   4.378048780487805|0.9939024390243902|\n",
      "+-----------+------------------+---------------------+---------------------+----------------+--------------------+------------------+\n",
      "\n",
      "+-----------+----------------------------+---------------------------------------+---------------------------------------+----------------------------------+--------------------------------------+------------------------------+\n",
      "|user_rating|format_number(avg(price), 2)|format_number(avg(rating_count_tot), 2)|format_number(avg(rating_count_ver), 2)|format_number(avg(user_rating), 2)|format_number(avg(user_rating_ver), 2)|format_number(avg(vpp_lic), 2)|\n",
      "+-----------+----------------------------+---------------------------------------+---------------------------------------+----------------------------------+--------------------------------------+------------------------------+\n",
      "|        0.0|                        1.08|                                   0.00|                                   0.00|                              0.00|                                  0.00|                          0.98|\n",
      "|        3.5|                        1.76|                              15,503.27|                                 138.29|                              3.50|                                  3.16|                          0.99|\n",
      "|        4.5|                        1.80|                              22,029.74|                                 803.06|                              4.50|                                  4.20|                          1.00|\n",
      "|        2.5|                        1.10|                               5,419.93|                                  50.53|                              2.50|                                  2.29|                          0.98|\n",
      "|        1.0|                        1.93|                                  29.57|                                  17.20|                              1.00|                                  0.98|                          1.00|\n",
      "|        4.0|                        2.21|                               7,836.84|                                 301.08|                              4.00|                                  3.74|                          1.00|\n",
      "|        3.0|                        1.29|                               7,487.13|                                 234.93|                              3.00|                                  2.65|                          0.99|\n",
      "|        2.0|                        1.16|                               2,907.24|                                  62.08|                              2.00|                                  1.99|                          0.99|\n",
      "|        1.5|                        1.21|                                 203.50|                                  22.48|                              1.50|                                  1.25|                          0.98|\n",
      "|        5.0|                        1.65|                              12,699.83|                                 974.87|                              5.00|                                  4.38|                          0.99|\n",
      "+-----------+----------------------------+---------------------------------------+---------------------------------------+----------------------------------+--------------------------------------+------------------------------+\n",
      "\n"
     ]
    }
   ],
   "source": [
    "from pyspark.sql.functions import format_number, col\n",
    "\n",
    "# Let's start off with this. Just grouping by prime_genre and presenting the mean.\n",
    "group_user_rating_df = df.select('price','rating_count_tot','rating_count_ver','user_rating','user_rating_ver','ver','cont_rating','vpp_lic','prime_genre').groupBy('prime_genre').mean()\n",
    "group_user_rating_df.show()\n",
    "\n",
    "# Now that we've calculated the mean, the values for blue-collar and technician are extremely long. \n",
    "# We can use format_number to reduce the total amount of decimals. \n",
    "# The number two represents the amount of decimals we want to be displayed.\n",
    "group_user_rating_df = group_user_rating_df.select('user_rating',\n",
    "                                   format_number('avg(price)',2),\n",
    "                                   format_number('avg(rating_count_tot)',2),\n",
    "                                   format_number('avg(rating_count_ver)',2),\n",
    "                                   format_number('avg(user_rating)',2),\n",
    "                                   format_number('avg(user_rating_ver)',2),\n",
    "                                   format_number('avg(vpp_lic)',2))\n",
    "\n",
    "group_user_rating_df.show()"
   ]
  },
  {
   "cell_type": "code",
   "execution_count": null,
   "metadata": {},
   "outputs": [],
   "source": []
  }
 ],
 "metadata": {
  "kernelspec": {
   "display_name": "Python 3",
   "language": "python",
   "name": "python3"
  },
  "language_info": {
   "codemirror_mode": {
    "name": "ipython",
    "version": 3
   },
   "file_extension": ".py",
   "mimetype": "text/x-python",
   "name": "python",
   "nbconvert_exporter": "python",
   "pygments_lexer": "ipython3",
   "version": "3.5.2"
  }
 },
 "nbformat": 4,
 "nbformat_minor": 2
}
